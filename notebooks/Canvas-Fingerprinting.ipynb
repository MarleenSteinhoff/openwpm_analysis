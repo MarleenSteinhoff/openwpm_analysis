{
 "cells": [
  {
   "cell_type": "markdown",
   "metadata": {},
   "source": [
    "## Detecting canvas fingerprinting scripts\n",
    "- This notebook demonstrates canvas fingerprinting detection using streaming analysis\n",
    "- Canvas fingerprinting detection code is taken from https://github.com/sensor-js/OpenWPM-mobile\n",
    "- For background on canvas fingerprinting see our [CCS'14](https://securehomes.esat.kuleuven.be/~gacar/persistent/) and [CCS'16](https://webtransparency.cs.princeton.edu/webcensus/) studies.\n",
    "\n"
   ]
  },
  {
   "cell_type": "code",
   "execution_count": 2,
   "metadata": {},
   "outputs": [],
   "source": [
    "import re\n",
    "import json\n",
    "import sqlite3\n",
    "import pandas as pd\n",
    "from _collections import defaultdict\n",
    "from tqdm import tqdm"
   ]
  },
  {
   "cell_type": "code",
   "execution_count": 3,
   "metadata": {},
   "outputs": [],
   "source": [
    "# import some analysis utilities from https://github.com/englehardt/crawl_utils\n",
    "import sys\n",
    "sys.path.append('./crawl_utils/')\n",
    "import domain_utils as du\n",
    "import analysis_utils as au\n",
    "\n",
    "pd.set_option(\"display.max_colwidth\",500)\n",
    "pd.set_option(\"display.max_rows\",500)\n"
   ]
  },
  {
   "cell_type": "code",
   "execution_count": 4,
   "metadata": {},
   "outputs": [],
   "source": [
    "# use the sample sqlite\n",
    "DB = '/home/marleensteinhoff/UNi/Projektseminar/Datenanalyse/sample_2018-06_1m_stateless_census_crawl.sqlite'"
   ]
  },
  {
   "cell_type": "markdown",
   "metadata": {},
   "source": [
    "### Load JavaScript calls"
   ]
  },
  {
   "cell_type": "code",
   "execution_count": 5,
   "metadata": {},
   "outputs": [
    {
     "name": "stdout",
     "output_type": "stream",
     "text": [
      "Number of javascript calls 501207\n"
     ]
    }
   ],
   "source": [
    "con = sqlite3.connect(DB)\n",
    "\n",
    "con.row_factory = sqlite3.Row\n",
    "cur = con.cursor()\n",
    "js = pd.read_sql_query(\"SELECT * FROM javascript\", con)\n",
    "\n",
    "print(\"Number of javascript calls\", len(js))"
   ]
  },
  {
   "cell_type": "code",
   "execution_count": 6,
   "metadata": {},
   "outputs": [
    {
     "data": {
      "text/html": [
       "<div>\n",
       "<style scoped>\n",
       "    .dataframe tbody tr th:only-of-type {\n",
       "        vertical-align: middle;\n",
       "    }\n",
       "\n",
       "    .dataframe tbody tr th {\n",
       "        vertical-align: top;\n",
       "    }\n",
       "\n",
       "    .dataframe thead th {\n",
       "        text-align: right;\n",
       "    }\n",
       "</style>\n",
       "<table border=\"1\" class=\"dataframe\">\n",
       "  <thead>\n",
       "    <tr style=\"text-align: right;\">\n",
       "      <th></th>\n",
       "      <th>id</th>\n",
       "      <th>crawl_id</th>\n",
       "      <th>visit_id</th>\n",
       "      <th>script_url</th>\n",
       "      <th>script_line</th>\n",
       "      <th>script_col</th>\n",
       "      <th>func_name</th>\n",
       "      <th>script_loc_eval</th>\n",
       "      <th>document_url</th>\n",
       "      <th>top_level_url</th>\n",
       "      <th>call_stack</th>\n",
       "      <th>symbol</th>\n",
       "      <th>operation</th>\n",
       "      <th>value</th>\n",
       "      <th>arguments</th>\n",
       "      <th>time_stamp</th>\n",
       "      <th>script_ps1</th>\n",
       "    </tr>\n",
       "  </thead>\n",
       "  <tbody>\n",
       "    <tr>\n",
       "      <th>0</th>\n",
       "      <td>1</td>\n",
       "      <td>7</td>\n",
       "      <td>7</td>\n",
       "      <td>https://www.google.co.in/?gws_rd=ssl</td>\n",
       "      <td>1</td>\n",
       "      <td>3641</td>\n",
       "      <td></td>\n",
       "      <td></td>\n",
       "      <td>https://www.google.co.in/?gws_rd=ssl</td>\n",
       "      <td>https://www.google.co.in/?gws_rd=ssl</td>\n",
       "      <td></td>\n",
       "      <td>window.navigator.userAgent</td>\n",
       "      <td>get</td>\n",
       "      <td>Mozilla/5.0 (X11; Linux x86_64; rv:52.0) Gecko/20100101 Firefox/52.0</td>\n",
       "      <td>None</td>\n",
       "      <td>2018-06-27T14:19:39.880Z</td>\n",
       "      <td>google.co.in</td>\n",
       "    </tr>\n",
       "    <tr>\n",
       "      <th>1</th>\n",
       "      <td>2</td>\n",
       "      <td>7</td>\n",
       "      <td>7</td>\n",
       "      <td>https://www.google.co.in/?gws_rd=ssl</td>\n",
       "      <td>1</td>\n",
       "      <td>3731</td>\n",
       "      <td></td>\n",
       "      <td></td>\n",
       "      <td>https://www.google.co.in/?gws_rd=ssl</td>\n",
       "      <td>https://www.google.co.in/?gws_rd=ssl</td>\n",
       "      <td></td>\n",
       "      <td>window.navigator.userAgent</td>\n",
       "      <td>get</td>\n",
       "      <td>Mozilla/5.0 (X11; Linux x86_64; rv:52.0) Gecko/20100101 Firefox/52.0</td>\n",
       "      <td>None</td>\n",
       "      <td>2018-06-27T14:19:39.880Z</td>\n",
       "      <td>google.co.in</td>\n",
       "    </tr>\n",
       "    <tr>\n",
       "      <th>2</th>\n",
       "      <td>3</td>\n",
       "      <td>7</td>\n",
       "      <td>7</td>\n",
       "      <td>https://www.google.co.in/?gws_rd=ssl</td>\n",
       "      <td>1</td>\n",
       "      <td>3732</td>\n",
       "      <td></td>\n",
       "      <td></td>\n",
       "      <td>https://www.google.co.in/?gws_rd=ssl</td>\n",
       "      <td>https://www.google.co.in/?gws_rd=ssl</td>\n",
       "      <td></td>\n",
       "      <td>window.navigator.userAgent</td>\n",
       "      <td>get</td>\n",
       "      <td>Mozilla/5.0 (X11; Linux x86_64; rv:52.0) Gecko/20100101 Firefox/52.0</td>\n",
       "      <td>None</td>\n",
       "      <td>2018-06-27T14:19:39.882Z</td>\n",
       "      <td>google.co.in</td>\n",
       "    </tr>\n",
       "  </tbody>\n",
       "</table>\n",
       "</div>"
      ],
      "text/plain": [
       "   id  crawl_id  visit_id                            script_url script_line  \\\n",
       "0   1         7         7  https://www.google.co.in/?gws_rd=ssl           1   \n",
       "1   2         7         7  https://www.google.co.in/?gws_rd=ssl           1   \n",
       "2   3         7         7  https://www.google.co.in/?gws_rd=ssl           1   \n",
       "\n",
       "  script_col func_name script_loc_eval                          document_url  \\\n",
       "0       3641                            https://www.google.co.in/?gws_rd=ssl   \n",
       "1       3731                            https://www.google.co.in/?gws_rd=ssl   \n",
       "2       3732                            https://www.google.co.in/?gws_rd=ssl   \n",
       "\n",
       "                          top_level_url call_stack  \\\n",
       "0  https://www.google.co.in/?gws_rd=ssl              \n",
       "1  https://www.google.co.in/?gws_rd=ssl              \n",
       "2  https://www.google.co.in/?gws_rd=ssl              \n",
       "\n",
       "                       symbol operation  \\\n",
       "0  window.navigator.userAgent       get   \n",
       "1  window.navigator.userAgent       get   \n",
       "2  window.navigator.userAgent       get   \n",
       "\n",
       "                                                                  value  \\\n",
       "0  Mozilla/5.0 (X11; Linux x86_64; rv:52.0) Gecko/20100101 Firefox/52.0   \n",
       "1  Mozilla/5.0 (X11; Linux x86_64; rv:52.0) Gecko/20100101 Firefox/52.0   \n",
       "2  Mozilla/5.0 (X11; Linux x86_64; rv:52.0) Gecko/20100101 Firefox/52.0   \n",
       "\n",
       "  arguments                time_stamp    script_ps1  \n",
       "0      None  2018-06-27T14:19:39.880Z  google.co.in  \n",
       "1      None  2018-06-27T14:19:39.880Z  google.co.in  \n",
       "2      None  2018-06-27T14:19:39.882Z  google.co.in  "
      ]
     },
     "execution_count": 6,
     "metadata": {},
     "output_type": "execute_result"
    }
   ],
   "source": [
    "# Add the helper column\n",
    "js['script_ps1'] = js['script_url'].apply(lambda x: du.get_ps_plus_1(x) if x is not None else None)\n",
    "js.head(3)"
   ]
  },
  {
   "cell_type": "markdown",
   "metadata": {},
   "source": [
    "### Breakdown of instrumented function calls"
   ]
  },
  {
   "cell_type": "code",
   "execution_count": 7,
   "metadata": {},
   "outputs": [
    {
     "data": {
      "text/plain": [
       "window.Storage.getItem                  46851\n",
       "window.Storage.setItem                  18104\n",
       "window.Storage.removeItem               13812\n",
       "CanvasRenderingContext2D.fill            7258\n",
       "CanvasRenderingContext2D.save            7074\n",
       "CanvasRenderingContext2D.restore         7070\n",
       "HTMLCanvasElement.getContext             4208\n",
       "window.Storage.key                       3689\n",
       "CanvasRenderingContext2D.measureText     3103\n",
       "CanvasRenderingContext2D.stroke          2393\n",
       "Name: symbol, dtype: int64"
      ]
     },
     "execution_count": 7,
     "metadata": {},
     "output_type": "execute_result"
    }
   ],
   "source": [
    "js[js.operation == \"call\"].symbol.value_counts().head(10)"
   ]
  },
  {
   "cell_type": "markdown",
   "metadata": {},
   "source": [
    "### Canvas API calls\n",
    "- Print the most common arguments to `CanvasRenderingContext2D.fillText`,\n",
    "which is used to draw a text onto canvas.\n",
    "- `Cwm fjordbank glyphs vext quiz` is a [perfect pangram](https://en.wikipedia.org/wiki/Pangram#Short_pangrams)\n",
    "that [we found](https://securehomes.esat.kuleuven.be/~gacar/persistent/#canvas-results) to be commonly used by canvas fingerprinters."
   ]
  },
  {
   "cell_type": "code",
   "execution_count": 8,
   "metadata": {},
   "outputs": [
    {
     "data": {
      "text/plain": [
       "{\"0\":\"Cwm fjordbank glyphs vext quiz, 😃\",\"1\":4,\"2\":45}    74\n",
       "{\"0\":\"Cwm fjordbank glyphs vext quiz, 😃\",\"1\":2,\"2\":15}    74\n",
       "{\"0\":\"!image!\",\"1\":4,\"2\":17}                              39\n",
       "{\"0\":\"!image!\",\"1\":2,\"2\":15}                              39\n",
       "{\"0\":\"!H71JCaj)]# 1@#\",\"1\":4,\"2\":8}                       19\n",
       "{\"0\":\"Soft Ruddy Foothold 2\",\"1\":2,\"2\":2}                 19\n",
       "{\"0\":\"🇺​🇳\",\"1\":0,\"2\":0}                                   18\n",
       "{\"0\":\"🇺🇳\",\"1\":0,\"2\":0}                                    18\n",
       "{\"0\":\"🕴​♀️\",\"1\":0,\"2\":0}                                  14\n",
       "{\"0\":\"🕴‍♀️\",\"1\":0,\"2\":0}                                  14\n",
       "Name: arguments, dtype: int64"
      ]
     },
     "execution_count": 8,
     "metadata": {},
     "output_type": "execute_result"
    }
   ],
   "source": [
    "js[(js.operation == \"call\") &\n",
    "   (js.symbol == \"CanvasRenderingContext2D.fillText\")\n",
    "  ].arguments.value_counts().head(10)"
   ]
  },
  {
   "cell_type": "markdown",
   "metadata": {},
   "source": [
    "### Streaming analysis to detect canvas fingerprinting\n",
    "- To detect potential canvas fingerprinters we seek for [a set of conditions](http://randomwalker.info/publications/OpenWPM_1_million_site_tracking_measurement.pdf#page=12)* to be present. (We use a slightly different set of conditions to reduce false negatives.)\n"
   ]
  },
  {
   "cell_type": "code",
   "execution_count": 9,
   "metadata": {},
   "outputs": [],
   "source": [
    "CANVAS_READ_FUNCS = [\n",
    "    \"HTMLCanvasElement.toDataURL\",\n",
    "    \"CanvasRenderingContext2D.getImageData\"\n",
    "    ]\n",
    "\n",
    "CANVAS_WRITE_FUNCS = [\n",
    "    \"CanvasRenderingContext2D.fillText\",\n",
    "    \"CanvasRenderingContext2D.strokeText\"\n",
    "    ]\n",
    "\n",
    "\"\"\"\n",
    "Criteria 3 from Englehardt & Narayanan, 2016\n",
    "\"3. The script should not call the save, restore, or addEventListener\n",
    "methods of the rendering context.\"\n",
    "\n",
    "`addEventListener` is only called for HTMLCanvasElement, so we use that.\n",
    "\"\"\"\n",
    "CANVAS_FP_DO_NOT_CALL_LIST = [\"CanvasRenderingContext2D.save\",\n",
    "                              \"CanvasRenderingContext2D.restore\",\n",
    "                              \"HTMLCanvasElement.addEventListener\"]"
   ]
  },
  {
   "cell_type": "code",
   "execution_count": 10,
   "metadata": {},
   "outputs": [],
   "source": [
    "MIN_CANVAS_TEXT_LEN = 10\n",
    "MIN_CANVAS_IMAGE_WIDTH = 16\n",
    "MIN_CANVAS_IMAGE_HEIGHT = 16\n",
    "\n",
    "\n",
    "def get_canvas_text(arguments):\n",
    "    \"\"\"Return the string that is written onto canvas from function arguments.\"\"\"\n",
    "    if not arguments:\n",
    "        return \"\"\n",
    "    canvas_write_args = json.loads(arguments)\n",
    "    try:\n",
    "        # cast numbers etc. to a unicode string\n",
    "        return unicode(canvas_write_args[\"0\"])\n",
    "    except Exception:\n",
    "        return \"\"\n",
    "\n",
    "\n",
    "def are_get_image_data_dimensions_too_small(arguments):\n",
    "    \"\"\"Check if the retrieved pixel data is larger than min. dimensions.\"\"\"\n",
    "    # https://developer.mozilla.org/en-US/docs/Web/API/CanvasRenderingContext2D/getImageData#Parameters  # noqa\n",
    "    get_image_data_args = json.loads(arguments)\n",
    "    sw = int(get_image_data_args[\"2\"])\n",
    "    sh = int(get_image_data_args[\"3\"])\n",
    "    return (sw < MIN_CANVAS_IMAGE_WIDTH) or (sh < MIN_CANVAS_IMAGE_HEIGHT)\n",
    "\n"
   ]
  },
  {
   "cell_type": "code",
   "execution_count": 11,
   "metadata": {},
   "outputs": [],
   "source": [
    "def get_canvas_fingerprinters(canvas_reads, canvas_writes, canvas_styles,\n",
    "                              canvas_banned_calls, canvas_texts):\n",
    "    canvas_fingerprinters = set()\n",
    "    for script_address, visit_ids in canvas_reads.items():\n",
    "        if script_address in canvas_fingerprinters:\n",
    "            continue\n",
    "        canvas_rw_visits = visit_ids.\\\n",
    "            intersection(canvas_writes[script_address])\n",
    "        if not canvas_rw_visits:\n",
    "            continue\n",
    "        # we can remove the following, we don't use the style/color condition\n",
    "        for canvas_rw_visit in canvas_rw_visits:\n",
    "            # check if the script has made a call to save, restore or\n",
    "            # addEventListener of the Canvas API. We exclude scripts making\n",
    "            # these calls to eliminate false positives\n",
    "            if canvas_rw_visit in canvas_banned_calls[script_address]:\n",
    "                print (\"Excluding potential canvas FP script\", script_address,\n",
    "                       \"visit#\", canvas_rw_visit,\n",
    "                       canvas_texts[(script_address, canvas_rw_visit)])\n",
    "                continue\n",
    "            canvas_fingerprinters.add(script_address)\n",
    "            #print (\"Canvas fingerprinter\", script_address, \"visit#\",\n",
    "            #       canvas_rw_visit,\n",
    "            #       canvas_texts[(script_address, canvas_rw_visit)])\n",
    "            break\n",
    "\n",
    "    return canvas_fingerprinters"
   ]
  },
  {
   "cell_type": "markdown",
   "metadata": {},
   "source": [
    "#### Start streaming analysis"
   ]
  },
  {
   "cell_type": "code",
   "execution_count": 12,
   "metadata": {},
   "outputs": [
    {
     "name": "stderr",
     "output_type": "stream",
     "text": [
      "500911it [00:03, 153928.63it/s]\n"
     ]
    }
   ],
   "source": [
    "query = \"\"\"SELECT sv.site_url, sv.visit_id,\n",
    "    js.script_url, js.operation, js.arguments, js.symbol, js.value\n",
    "    FROM javascript as js LEFT JOIN site_visits as sv\n",
    "    ON sv.visit_id = js.visit_id WHERE\n",
    "    js.script_url <> ''\n",
    "    \"\"\"\n",
    "\n",
    "canvas_reads = defaultdict(set)\n",
    "canvas_writes = defaultdict(set)\n",
    "canvas_texts = defaultdict(set)\n",
    "canvas_banned_calls = defaultdict(set)\n",
    "canvas_styles = defaultdict(lambda: defaultdict(set))\n",
    "\n",
    "for row in tqdm(cur.execute(query)):\n",
    "    # visit_id, script_url, operation, arguments, symbol, value = row[0:6]\n",
    "    visit_id = row[\"visit_id\"]\n",
    "    site_url = row[\"site_url\"]\n",
    "    script_url = row[\"script_url\"]\n",
    "    operation = row[\"operation\"]\n",
    "    arguments = row[\"arguments\"]\n",
    "    symbol = row[\"symbol\"]\n",
    "    value = row[\"value\"]\n",
    "\n",
    "    # Exclude relative URLs, data urls, blobs\n",
    "    if not (script_url.startswith(\"http://\")\n",
    "            or script_url.startswith(\"https://\")):\n",
    "        continue\n",
    "    if symbol in CANVAS_READ_FUNCS and operation == \"call\":\n",
    "        if (symbol == \"CanvasRenderingContext2D.getImageData\" and\n",
    "                are_get_image_data_dimensions_too_small(arguments)):\n",
    "            continue\n",
    "        canvas_reads[script_url].add(visit_id)\n",
    "    elif symbol in CANVAS_WRITE_FUNCS:\n",
    "        text = get_canvas_text(arguments)\n",
    "        # Python miscalculates the length of unicode strings that contain\n",
    "        # surrogate pairs such as emojis. This make strings look longer\n",
    "        # than they really are, and is causing false positives.\n",
    "        # For instance length of \"🏴󠁧\", which is written onto canvas by\n",
    "        # Wordpress to check emoji support, is returned as 13.\n",
    "        # We ignore non-ascii characters to prevent false positives.\n",
    "        # Perhaps a good idea to log such cases to prevent real fingerprinting\n",
    "        # scripts to slip in.\n",
    "        if len(text.encode('ascii', 'ignore')) >= MIN_CANVAS_TEXT_LEN:\n",
    "            canvas_writes[script_url].add(visit_id)\n",
    "            # the following is used to debug false positives\n",
    "            canvas_texts[(script_url, visit_id)].add(text)\n",
    "    elif symbol == \"CanvasRenderingContext2D.fillStyle\" and\\\n",
    "            operation == \"call\":\n",
    "        canvas_styles[script_url][visit_id].add(value)\n",
    "    elif operation == \"call\" and symbol in CANVAS_FP_DO_NOT_CALL_LIST:\n",
    "        canvas_banned_calls[script_url].add(visit_id)\n",
    "\n"
   ]
  },
  {
   "cell_type": "code",
   "execution_count": 13,
   "metadata": {},
   "outputs": [],
   "source": [
    "canvas_fingerprinters = get_canvas_fingerprinters(canvas_reads,\n",
    "                                                  canvas_writes,\n",
    "                                                  canvas_styles,\n",
    "                                                  canvas_banned_calls,\n",
    "                                                  canvas_texts)"
   ]
  },
  {
   "cell_type": "code",
   "execution_count": 14,
   "metadata": {},
   "outputs": [],
   "source": [
    "# Mark canvas fingerprinting scripts in the dataframe\n",
    "js[\"canvas_fp\"] = js[\"script_url\"].map(lambda x: x in canvas_fingerprinters)\n",
    "# Extract first arguments of function calls as a separate column\n",
    "js[\"arg0\"] = js[\"arguments\"].map(lambda x: json.loads(x)[\"0\"] if x else \"\")"
   ]
  },
  {
   "cell_type": "code",
   "execution_count": 15,
   "metadata": {},
   "outputs": [],
   "source": [
    "## List canvas fingerprinting scripts"
   ]
  },
  {
   "cell_type": "code",
   "execution_count": 16,
   "metadata": {},
   "outputs": [
    {
     "data": {
      "text/html": [
       "<div>\n",
       "<style scoped>\n",
       "    .dataframe tbody tr th:only-of-type {\n",
       "        vertical-align: middle;\n",
       "    }\n",
       "\n",
       "    .dataframe tbody tr th {\n",
       "        vertical-align: top;\n",
       "    }\n",
       "\n",
       "    .dataframe thead th {\n",
       "        text-align: right;\n",
       "    }\n",
       "</style>\n",
       "<table border=\"1\" class=\"dataframe\">\n",
       "  <thead>\n",
       "    <tr style=\"text-align: right;\">\n",
       "      <th></th>\n",
       "      <th>top_level_url</th>\n",
       "      <th>script_ps1</th>\n",
       "      <th>canvas_text</th>\n",
       "    </tr>\n",
       "  </thead>\n",
       "  <tbody>\n",
       "  </tbody>\n",
       "</table>\n",
       "</div>"
      ],
      "text/plain": [
       "Empty DataFrame\n",
       "Columns: [top_level_url, script_ps1, canvas_text]\n",
       "Index: []"
      ]
     },
     "execution_count": 16,
     "metadata": {},
     "output_type": "execute_result"
    }
   ],
   "source": [
    "js[(js.canvas_fp) &\n",
    "   (js.operation == \"call\") &\n",
    "   (js.symbol == \"CanvasRenderingContext2D.fillText\")\n",
    "  ].rename({\"arg0\": \"canvas_text\"}, axis='columns')[[\"top_level_url\", \"script_ps1\", \"canvas_text\"]].\\\n",
    "        drop_duplicates()"
   ]
  },
  {
   "cell_type": "code",
   "execution_count": null,
   "metadata": {},
   "outputs": [],
   "source": []
  }
 ],
 "metadata": {
  "celltoolbar": "Edit Metadata",
  "kernelspec": {
   "display_name": "Python 3 (ipykernel)",
   "language": "python",
   "name": "python3"
  },
  "language_info": {
   "codemirror_mode": {
    "name": "ipython",
    "version": 3
   },
   "file_extension": ".py",
   "mimetype": "text/x-python",
   "name": "python",
   "nbconvert_exporter": "python",
   "pygments_lexer": "ipython3",
   "version": "3.10.9"
  }
 },
 "nbformat": 4,
 "nbformat_minor": 2
}
