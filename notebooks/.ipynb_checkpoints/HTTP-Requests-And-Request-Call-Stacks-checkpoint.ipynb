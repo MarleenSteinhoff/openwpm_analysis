{
 "cells": [
  {
   "cell_type": "markdown",
   "metadata": {},
   "source": [
    "# HTTP Requests Analysis\n",
    "- This notebook demonstrates basic use of `http_requests` table and `req_call_stack` columns.\n",
    "- `req_call_stack` column contains the JavaScript call stack for requests that are initiated by scripts.\n",
    "- Based on https://github.com/mozilla/openwpm-crawler/blob/master/analysis/Sample%20Analysis.ipynb\n"
   ]
  },
  {
   "cell_type": "code",
   "execution_count": 1,
   "metadata": {},
   "outputs": [],
   "source": [
    "import re\n",
    "import json\n",
    "import sqlite3\n",
    "import pandas as pd"
   ]
  },
  {
   "cell_type": "code",
   "execution_count": 2,
   "metadata": {},
   "outputs": [],
   "source": [
    "# import some analysis utilities from https://github.com/englehardt/crawl_utils\n",
    "import sys\n",
    "sys.path.append('./crawl_utils/')\n",
    "import domain_utils as du\n",
    "import analysis_utils as au"
   ]
  },
  {
   "cell_type": "code",
   "execution_count": 3,
   "metadata": {},
   "outputs": [],
   "source": [
    "# use the sample sqlite for the 2018-06 stateless crawl\n",
    "DB = 'sample_2018-06_1m_stateless_census_crawl.sqlite'"
   ]
  },
  {
   "cell_type": "markdown",
   "metadata": {},
   "source": [
    "### Load the requests"
   ]
  },
  {
   "cell_type": "code",
   "execution_count": 4,
   "metadata": {},
   "outputs": [],
   "source": [
    "# Load the data\n",
    "con = sqlite3.connect(DB)\n",
    "con.row_factory = sqlite3.Row\n",
    "cur = con.cursor()\n",
    "reqs = pd.read_sql_query(\"SELECT * FROM http_requests\", con)"
   ]
  },
  {
   "cell_type": "code",
   "execution_count": 5,
   "metadata": {},
   "outputs": [
    {
     "name": "stdout",
     "output_type": "stream",
     "text": [
      "Database contains 156285 HTTP requests on 944 sites\n"
     ]
    }
   ],
   "source": [
    "total_sites = reqs['top_level_url'].nunique()\n",
    "print \"Database contains %s HTTP requests on %d sites\" %(len(reqs), total_sites)"
   ]
  },
  {
   "cell_type": "markdown",
   "metadata": {},
   "source": [
    "### Add additional columns to help with analysis"
   ]
  },
  {
   "cell_type": "code",
   "execution_count": 6,
   "metadata": {},
   "outputs": [],
   "source": [
    "# Add the public suffix + 1 of a bunch of the URL columns\n",
    "reqs['url_ps1'] = reqs['url'].apply(du.get_ps_plus_1)\n",
    "reqs['top_ps1'] = reqs['top_level_url'].apply(lambda x: du.get_ps_plus_1(x) if x is not None else None)\n",
    "reqs['loading_ps1'] = reqs['loading_href'].apply(lambda x: du.get_ps_plus_1(x) if x is not None else None)"
   ]
  },
  {
   "cell_type": "code",
   "execution_count": 7,
   "metadata": {},
   "outputs": [],
   "source": [
    "# Parse some info out of the call stack\n",
    "# req_call_stack column contains the JavaScript stack frames for requests initiated by scripts\n",
    "reqs['stack_scripts'] = reqs['req_call_stack'].apply(au.get_script_urls_from_call_stack_as_set)\n",
    "reqs['stack_ps1s'] = reqs['stack_scripts'].apply(lambda x: set([du.get_ps_plus_1(y) for y in x]))"
   ]
  },
  {
   "cell_type": "markdown",
   "metadata": {},
   "source": [
    "### How many sites is doubleclick.net loaded on?"
   ]
  },
  {
   "cell_type": "code",
   "execution_count": 8,
   "metadata": {},
   "outputs": [
    {
     "name": "stdout",
     "output_type": "stream",
     "text": [
      "581 sites (61.5%)\n"
     ]
    }
   ],
   "source": [
    "n_sites = reqs[reqs['url_ps1'] == 'doubleclick.net'].top_level_url.nunique()\n",
    "print \"%d sites (%0.1f%%)\" % (n_sites, 100 * n_sites / float(total_sites))"
   ]
  },
  {
   "cell_type": "markdown",
   "metadata": {},
   "source": [
    "### How many sites is google-analytics.com loaded on?"
   ]
  },
  {
   "cell_type": "code",
   "execution_count": 9,
   "metadata": {},
   "outputs": [
    {
     "name": "stdout",
     "output_type": "stream",
     "text": [
      "535 sites (56.7%)\n"
     ]
    }
   ],
   "source": [
    "n_sites = reqs[reqs['url_ps1'] == 'google-analytics.com'].top_level_url.nunique()\n",
    "print \"%d sites (%0.1f%%)\" % (n_sites, 100 * n_sites / float(total_sites))"
   ]
  },
  {
   "cell_type": "markdown",
   "metadata": {},
   "source": [
    "### How many sites is facebook.com loaded on?"
   ]
  },
  {
   "cell_type": "code",
   "execution_count": 10,
   "metadata": {},
   "outputs": [
    {
     "name": "stdout",
     "output_type": "stream",
     "text": [
      "398 sites (42.2%)\n"
     ]
    }
   ],
   "source": [
    "n_sites = reqs[reqs['url_ps1'] == 'facebook.com'].top_level_url.nunique()\n",
    "print \"%d sites (%0.1f%%)\" % (n_sites, 100 * n_sites / float(total_sites))"
   ]
  },
  {
   "cell_type": "markdown",
   "metadata": {},
   "source": [
    "### What domains does doubleclick.net load other resources from?"
   ]
  },
  {
   "cell_type": "code",
   "execution_count": 11,
   "metadata": {
    "scrolled": true
   },
   "outputs": [
    {
     "data": {
      "text/plain": [
       "url_ps1\n",
       "doubleclick.net                  2184\n",
       "googlesyndication.com            1988\n",
       "google.com                        335\n",
       "moatads.com                       159\n",
       "rubiconproject.com                128\n",
       "2mdn.net                          100\n",
       "adnxs.com                          87\n",
       "googletagservices.com              82\n",
       "adsafeprotected.com                55\n",
       "advertising.com                    48\n",
       "casalemedia.com                    35\n",
       "openx.net                          35\n",
       "amazon-adsystem.com                35\n",
       "gstatic.com                        33\n",
       "clarium.global.ssl.fastly.net      31\n",
       "agkn.com                           28\n",
       "trugaze.io                         25\n",
       "demdex.net                         23\n",
       "biobiochile.cl                     21\n",
       "criteo.com                         21\n",
       "detik.net.id                       20\n",
       "asahicom.jp                        20\n",
       "doubleverify.com                   20\n",
       "quantserve.com                     19\n",
       "pubmatic.com                       19\n",
       "almasryalyoum.com                  19\n",
       "sascdn.com                         16\n",
       "lijit.com                          16\n",
       "exponential.com                    15\n",
       "chron.com                          13\n",
       "                                 ... \n",
       "imasdk.googleapis.com               1\n",
       "jquery.com                          1\n",
       "g2crowd.com                         1\n",
       "fqtag.com                           1\n",
       "liadm.com                           1\n",
       "mathtag.com                         1\n",
       "teads.tv                            1\n",
       "tapad.com                           1\n",
       "cursecdn.com                        1\n",
       "investingchannel.com                1\n",
       "switchadhub.com                     1\n",
       "dianomi.com                         1\n",
       "stroeerdp.de                        1\n",
       "dtcn.com                            1\n",
       "ebay.in                             1\n",
       "flx10.com                           1\n",
       "ebaystatic.com                      1\n",
       "livesegmentservice.com              1\n",
       "skimresources.com                   1\n",
       "originplatform.com                  1\n",
       "liputan6.com                        1\n",
       "purch.com                           1\n",
       "servedbyopenx.com                   1\n",
       "firstimpression.io                  1\n",
       "esprit.de                           1\n",
       "slickdeals.net                      0\n",
       "spiegel.de                          0\n",
       "livedoor.com                        0\n",
       "kuikr.com                           0\n",
       "imguol.com.br                       0\n",
       "Name: top_level_url, Length: 243, dtype: int64"
      ]
     },
     "execution_count": 11,
     "metadata": {},
     "output_type": "execute_result"
    }
   ],
   "source": [
    "reqs[\n",
    "    reqs.stack_ps1s.apply(lambda x: 'doubleclick.net' in x)\n",
    "].groupby('url_ps1').top_level_url.count().sort_values(ascending=False)"
   ]
  }
 ],
 "metadata": {
  "kernelspec": {
   "display_name": "Python 3 (ipykernel)",
   "language": "python",
   "name": "python3"
  },
  "language_info": {
   "codemirror_mode": {
    "name": "ipython",
    "version": 3
   },
   "file_extension": ".py",
   "mimetype": "text/x-python",
   "name": "python",
   "nbconvert_exporter": "python",
   "pygments_lexer": "ipython3",
   "version": "3.10.8"
  }
 },
 "nbformat": 4,
 "nbformat_minor": 2
}
