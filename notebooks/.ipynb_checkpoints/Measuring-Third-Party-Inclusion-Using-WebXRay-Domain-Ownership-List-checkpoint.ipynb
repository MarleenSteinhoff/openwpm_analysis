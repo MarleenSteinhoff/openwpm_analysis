{
 "cells": [
  {
   "cell_type": "markdown",
   "metadata": {},
   "source": [
    "# Measuring Third Party Resource Inclusion Using WebXRay Domain Ownership List\n",
    "- This notebook demonstrates basic use of `http_requests` table in combination with [WebXRay Domain Ownership List](https://github.com/timlib/webXray_Domain_Owner_List)\n",
    "- Based on https://github.com/mozilla/openwpm-crawler/blob/master/analysis/Sample%20Analysis.ipynb and https://github.com/dreisman/WebCensusNotebook/blob/master/demo.ipynb\n"
   ]
  },
  {
   "cell_type": "code",
   "execution_count": 1,
   "metadata": {},
   "outputs": [],
   "source": [
    "import re\n",
    "import json\n",
    "import sqlite3\n",
    "import pandas as pd"
   ]
  },
  {
   "cell_type": "code",
   "execution_count": 2,
   "metadata": {},
   "outputs": [],
   "source": [
    "# import some analysis utilities from https://github.com/englehardt/crawl_utils\n",
    "import sys\n",
    "sys.path.append('./crawl_utils/')\n",
    "import domain_utils as du\n",
    "import analysis_utils as au"
   ]
  },
  {
   "cell_type": "code",
   "execution_count": 3,
   "metadata": {},
   "outputs": [],
   "source": [
    "def load_webxray_domain_ownership_list(webxray_json_path):\n",
    "    webxray_list = json.loads(open(webxray_json_path).read())\n",
    "    domain_orgs = {}  # `domain name` to (org) `id` mapping\n",
    "    parent_orgs = {}  # (org) `id` to `parent_id` mapping\n",
    "    org_names = {}  # (org) `id` to `owner_name` mapping\n",
    "    domain_owners = {}  # domain to topmost parent organization name mapping\n",
    "\n",
    "    for data in webxray_list:\n",
    "        org_names[data[\"id\"]] = data[\"owner_name\"]\n",
    "        if data[\"parent_id\"]:\n",
    "            parent_orgs[data[\"id\"]] = data[\"parent_id\"]\n",
    "        for domain in data[\"domains\"]:\n",
    "            domain_orgs[domain] = data[\"id\"]\n",
    "\n",
    "    \n",
    "    for domain, org_id in domain_orgs.iteritems():\n",
    "        domain_owners[domain] = org_names[get_topmost_parent(org_id, parent_orgs)]\n",
    "    return domain_owners"
   ]
  },
  {
   "cell_type": "code",
   "execution_count": 4,
   "metadata": {},
   "outputs": [],
   "source": [
    "def get_topmost_parent(org_id, parent_orgs):\n",
    "    \"\"\"Walk up the parent organizations dict.\"\"\"\n",
    "    while org_id in parent_orgs:\n",
    "        org_id = parent_orgs[org_id]  # get the parent's id\n",
    "    return org_id"
   ]
  },
  {
   "cell_type": "markdown",
   "metadata": {},
   "source": [
    "### Load domain ownership mapping"
   ]
  },
  {
   "cell_type": "code",
   "execution_count": 5,
   "metadata": {},
   "outputs": [],
   "source": [
    "# You should download `domain_owners.json` from the following link\n",
    "# https://github.com/timlib/webXray_Domain_Owner_List/blob/master/domain_owners.json\n",
    "domain_owners = load_webxray_domain_ownership_list(\"domain_owners.json\")"
   ]
  },
  {
   "cell_type": "code",
   "execution_count": 6,
   "metadata": {},
   "outputs": [],
   "source": [
    "# Correct the ownership for the Atlas domains\n",
    "ATLAS_DOMAINS = [\"atdmt.com\", \"atlassbx.com\"]\n",
    "for domain in ATLAS_DOMAINS:\n",
    "    domain_owners[domain] = \"Facebook\""
   ]
  },
  {
   "cell_type": "code",
   "execution_count": 7,
   "metadata": {},
   "outputs": [],
   "source": [
    "# use the sample sqlite for the 2018-06 stateless crawl\n",
    "DB = 'sample_2018-06_1m_stateless_census_crawl.sqlite'\n",
    "# Load the data\n",
    "con = sqlite3.connect(DB)\n",
    "con.row_factory = sqlite3.Row\n",
    "cur = con.cursor()\n",
    "reqs = pd.read_sql_query(\"SELECT * FROM http_requests\", con)"
   ]
  },
  {
   "cell_type": "code",
   "execution_count": 8,
   "metadata": {},
   "outputs": [],
   "source": [
    "# Add the public suffix + 1 of a bunch of the URL columns\n",
    "reqs['url_ps1'] = reqs['url'].apply(du.get_ps_plus_1)\n",
    "reqs['top_ps1'] = reqs['top_level_url'].apply(lambda x: du.get_ps_plus_1(x) if x is not None else None)\n",
    "reqs['loading_ps1'] = reqs['loading_href'].apply(lambda x: du.get_ps_plus_1(x) if x is not None else None)"
   ]
  },
  {
   "cell_type": "code",
   "execution_count": 9,
   "metadata": {},
   "outputs": [],
   "source": [
    "reqs['domain_owner'] = reqs['url_ps1'].apply(lambda x: domain_owners.get(x, \"\"))"
   ]
  },
  {
   "cell_type": "markdown",
   "metadata": {},
   "source": [
    "### How many sites are Facebook resource are loaded on?"
   ]
  },
  {
   "cell_type": "code",
   "execution_count": 10,
   "metadata": {},
   "outputs": [
    {
     "name": "stdout",
     "output_type": "stream",
     "text": [
      "411 sites (43.5%)\n"
     ]
    }
   ],
   "source": [
    "total_sites = reqs['top_level_url'].nunique()\n",
    "\n",
    "n_sites = reqs[reqs['domain_owner'] == 'Facebook'].top_level_url.nunique()\n",
    "print \"%d sites (%0.1f%%)\" % (n_sites, 100 * n_sites / float(total_sites))"
   ]
  },
  {
   "cell_type": "markdown",
   "metadata": {},
   "source": [
    "### How many sites are Google resource are loaded on?"
   ]
  },
  {
   "cell_type": "code",
   "execution_count": 11,
   "metadata": {},
   "outputs": [
    {
     "name": "stdout",
     "output_type": "stream",
     "text": [
      "771 sites (81.7%)\n"
     ]
    }
   ],
   "source": [
    "n_sites = reqs[reqs['domain_owner'] == 'Alphabet'].top_level_url.nunique()\n",
    "print \"%d sites (%0.1f%%)\" % (n_sites, 100 * n_sites / float(total_sites))"
   ]
  }
 ],
 "metadata": {
  "kernelspec": {
   "display_name": "Python 3 (ipykernel)",
   "language": "python",
   "name": "python3"
  },
  "language_info": {
   "codemirror_mode": {
    "name": "ipython",
    "version": 3
   },
   "file_extension": ".py",
   "mimetype": "text/x-python",
   "name": "python",
   "nbconvert_exporter": "python",
   "pygments_lexer": "ipython3",
   "version": "3.10.8"
  }
 },
 "nbformat": 4,
 "nbformat_minor": 2
}
