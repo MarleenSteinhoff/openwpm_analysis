{
 "cells": [
  {
   "cell_type": "markdown",
   "metadata": {},
   "source": [
    "# HTTP Redirection Analysis\n",
    "- This notebook demonstrates the basic use of `http_redirections` table by finding the most commonly occuring redirections.\n",
    "- Partly based on https://github.com/mozilla/openwpm-crawler/blob/master/analysis/Sample%20Analysis.ipynb\n"
   ]
  },
  {
   "cell_type": "code",
   "execution_count": 1,
   "metadata": {},
   "outputs": [],
   "source": [
    "import re\n",
    "import json\n",
    "import sqlite3\n",
    "import pandas as pd\n",
    "from collections import defaultdict"
   ]
  },
  {
   "cell_type": "code",
   "execution_count": 3,
   "metadata": {},
   "outputs": [],
   "source": [
    "# import some analysis utilities from https://github.com/englehardt/crawl_utils\n",
    "import sys\n",
    "sys.path.append('./crawl_utils/')\n",
    "import domain_utils as du"
   ]
  },
  {
   "cell_type": "code",
   "execution_count": 4,
   "metadata": {},
   "outputs": [],
   "source": [
    "# use the sample sqlite for the 2018-06 stateless crawl\n",
    "DB = 'sample_2018-06_1m_stateless_census_crawl.sqlite'"
   ]
  },
  {
   "cell_type": "markdown",
   "metadata": {},
   "source": [
    "### Load the redirects and requests"
   ]
  },
  {
   "cell_type": "code",
   "execution_count": 5,
   "metadata": {},
   "outputs": [],
   "source": [
    "# Load the data\n",
    "con = sqlite3.connect(DB)\n",
    "con.row_factory = sqlite3.Row\n",
    "cur = con.cursor()\n",
    "redirects = pd.read_sql_query(\"SELECT old_channel_id, new_channel_id, visit_id FROM http_redirects\"\n",
    "                              \" WHERE old_channel_id IS NOT NULL AND is_sts_upgrade=0;\", con)\n",
    "requests = pd.read_sql_query(\"SELECT url, channel_id FROM http_requests;\", con)\n"
   ]
  },
  {
   "cell_type": "code",
   "execution_count": 6,
   "metadata": {},
   "outputs": [],
   "source": [
    "# build a map of channel_id to request url\n",
    "channel_id_to_url_map = dict(zip(requests.channel_id, requests.url))"
   ]
  },
  {
   "cell_type": "code",
   "execution_count": 7,
   "metadata": {},
   "outputs": [],
   "source": [
    "redirects[\"old_url\"] = redirects[\"old_channel_id\"].map(lambda x: channel_id_to_url_map.get(x, None))\n",
    "redirects[\"new_url\"] = redirects[\"new_channel_id\"].map(lambda x: channel_id_to_url_map.get(x, None))"
   ]
  },
  {
   "cell_type": "code",
   "execution_count": 8,
   "metadata": {},
   "outputs": [],
   "source": [
    "# Eliminate redirections that don't have a corresponding request in the http_requests table\n",
    "redirects = redirects[~redirects.new_url.isnull()]"
   ]
  },
  {
   "cell_type": "code",
   "execution_count": 9,
   "metadata": {},
   "outputs": [],
   "source": [
    "redirects['old_ps1'] = redirects['old_url'].apply(du.get_ps_plus_1)\n",
    "redirects['new_ps1'] = redirects['new_url'].apply(du.get_ps_plus_1)"
   ]
  },
  {
   "cell_type": "code",
   "execution_count": 10,
   "metadata": {},
   "outputs": [],
   "source": [
    "# only count redirections between different PS+1's\n",
    "redirects = redirects[redirects.old_ps1!=redirects.new_ps1]"
   ]
  },
  {
   "cell_type": "code",
   "execution_count": 11,
   "metadata": {},
   "outputs": [],
   "source": [
    "# only count a (src-dst) pair once on a website\n",
    "redirects.drop_duplicates(subset=[\"visit_id\", \"old_ps1\", \"new_ps1\"], inplace=True)"
   ]
  },
  {
   "cell_type": "code",
   "execution_count": 12,
   "metadata": {},
   "outputs": [
    {
     "data": {
      "text/html": [
       "<div>\n",
       "<style scoped>\n",
       "    .dataframe tbody tr th:only-of-type {\n",
       "        vertical-align: middle;\n",
       "    }\n",
       "\n",
       "    .dataframe tbody tr th {\n",
       "        vertical-align: top;\n",
       "    }\n",
       "\n",
       "    .dataframe thead th {\n",
       "        text-align: right;\n",
       "    }\n",
       "</style>\n",
       "<table border=\"1\" class=\"dataframe\">\n",
       "  <thead>\n",
       "    <tr style=\"text-align: right;\">\n",
       "      <th></th>\n",
       "      <th>old_channel_id</th>\n",
       "      <th>new_channel_id</th>\n",
       "      <th>visit_id</th>\n",
       "      <th>old_url</th>\n",
       "      <th>new_url</th>\n",
       "      <th>old_ps1</th>\n",
       "      <th>new_ps1</th>\n",
       "    </tr>\n",
       "  </thead>\n",
       "  <tbody>\n",
       "    <tr>\n",
       "      <th>29</th>\n",
       "      <td>{bf5b720e-3b7d-4c24-850d-f9ca2e32771f}</td>\n",
       "      <td>{651404cf-6f90-4b2e-8d20-f25ee94e5fca}</td>\n",
       "      <td>3</td>\n",
       "      <td>https://facebook.com/security/hsts-pixel.gif?c...</td>\n",
       "      <td>https://fbcdn.net/security/hsts-pixel.gif?c=2.5</td>\n",
       "      <td>facebook.com</td>\n",
       "      <td>fbcdn.net</td>\n",
       "    </tr>\n",
       "    <tr>\n",
       "      <th>38</th>\n",
       "      <td>{023b1347-20c6-4491-bdac-ff132a905586}</td>\n",
       "      <td>{edd381eb-b452-4540-b000-174e2b4974b8}</td>\n",
       "      <td>8</td>\n",
       "      <td>https://cm.g.doubleclick.net/pixel?google_nid=...</td>\n",
       "      <td>https://analytics.twitter.com/tpm?pid=969&amp;puid...</td>\n",
       "      <td>doubleclick.net</td>\n",
       "      <td>twitter.com</td>\n",
       "    </tr>\n",
       "    <tr>\n",
       "      <th>41</th>\n",
       "      <td>{651404cf-6f90-4b2e-8d20-f25ee94e5fca}</td>\n",
       "      <td>{6ba116ef-16f5-4c16-8bd1-4a1d962faf5b}</td>\n",
       "      <td>3</td>\n",
       "      <td>https://fbcdn.net/security/hsts-pixel.gif?c=2.5</td>\n",
       "      <td>https://fbsbx.com/security/hsts-pixel.gif?c=5</td>\n",
       "      <td>fbcdn.net</td>\n",
       "      <td>fbsbx.com</td>\n",
       "    </tr>\n",
       "    <tr>\n",
       "      <th>44</th>\n",
       "      <td>{80fd6229-1375-47b3-affd-56e2463e0fee}</td>\n",
       "      <td>{9c920524-7670-4a81-805f-4a54e2dba5f5}</td>\n",
       "      <td>10</td>\n",
       "      <td>http://mat1.qq.com/www/images/ind36.gif</td>\n",
       "      <td>http://mat1.gtimg.com/www/images/ind36.gif</td>\n",
       "      <td>qq.com</td>\n",
       "      <td>gtimg.com</td>\n",
       "    </tr>\n",
       "    <tr>\n",
       "      <th>57</th>\n",
       "      <td>{6b874783-5896-49c0-bb8a-f4d95167884d}</td>\n",
       "      <td>{d55bedf4-3440-4019-82d4-d045f0726101}</td>\n",
       "      <td>9</td>\n",
       "      <td>https://bh.contextweb.com/bh/rtset?pid=557477&amp;...</td>\n",
       "      <td>https://s.amazon-adsystem.com/ecm3?id=Q1Bt741B...</td>\n",
       "      <td>contextweb.com</td>\n",
       "      <td>amazon-adsystem.com</td>\n",
       "    </tr>\n",
       "  </tbody>\n",
       "</table>\n",
       "</div>"
      ],
      "text/plain": [
       "                            old_channel_id  \\\n",
       "29  {bf5b720e-3b7d-4c24-850d-f9ca2e32771f}   \n",
       "38  {023b1347-20c6-4491-bdac-ff132a905586}   \n",
       "41  {651404cf-6f90-4b2e-8d20-f25ee94e5fca}   \n",
       "44  {80fd6229-1375-47b3-affd-56e2463e0fee}   \n",
       "57  {6b874783-5896-49c0-bb8a-f4d95167884d}   \n",
       "\n",
       "                            new_channel_id  visit_id  \\\n",
       "29  {651404cf-6f90-4b2e-8d20-f25ee94e5fca}         3   \n",
       "38  {edd381eb-b452-4540-b000-174e2b4974b8}         8   \n",
       "41  {6ba116ef-16f5-4c16-8bd1-4a1d962faf5b}         3   \n",
       "44  {9c920524-7670-4a81-805f-4a54e2dba5f5}        10   \n",
       "57  {d55bedf4-3440-4019-82d4-d045f0726101}         9   \n",
       "\n",
       "                                              old_url  \\\n",
       "29  https://facebook.com/security/hsts-pixel.gif?c...   \n",
       "38  https://cm.g.doubleclick.net/pixel?google_nid=...   \n",
       "41    https://fbcdn.net/security/hsts-pixel.gif?c=2.5   \n",
       "44            http://mat1.qq.com/www/images/ind36.gif   \n",
       "57  https://bh.contextweb.com/bh/rtset?pid=557477&...   \n",
       "\n",
       "                                              new_url          old_ps1  \\\n",
       "29    https://fbcdn.net/security/hsts-pixel.gif?c=2.5     facebook.com   \n",
       "38  https://analytics.twitter.com/tpm?pid=969&puid...  doubleclick.net   \n",
       "41      https://fbsbx.com/security/hsts-pixel.gif?c=5        fbcdn.net   \n",
       "44         http://mat1.gtimg.com/www/images/ind36.gif           qq.com   \n",
       "57  https://s.amazon-adsystem.com/ecm3?id=Q1Bt741B...   contextweb.com   \n",
       "\n",
       "                new_ps1  \n",
       "29            fbcdn.net  \n",
       "38          twitter.com  \n",
       "41            fbsbx.com  \n",
       "44            gtimg.com  \n",
       "57  amazon-adsystem.com  "
      ]
     },
     "execution_count": 12,
     "metadata": {},
     "output_type": "execute_result"
    }
   ],
   "source": [
    "redirects.head()"
   ]
  },
  {
   "cell_type": "markdown",
   "metadata": {},
   "source": [
    "### Most frequent redirection domain pairs"
   ]
  },
  {
   "cell_type": "code",
   "execution_count": 13,
   "metadata": {
    "scrolled": true
   },
   "outputs": [
    {
     "data": {
      "text/html": [
       "<div>\n",
       "<style scoped>\n",
       "    .dataframe tbody tr th:only-of-type {\n",
       "        vertical-align: middle;\n",
       "    }\n",
       "\n",
       "    .dataframe tbody tr th {\n",
       "        vertical-align: top;\n",
       "    }\n",
       "\n",
       "    .dataframe thead th {\n",
       "        text-align: right;\n",
       "    }\n",
       "</style>\n",
       "<table border=\"1\" class=\"dataframe\">\n",
       "  <thead>\n",
       "    <tr style=\"text-align: right;\">\n",
       "      <th></th>\n",
       "      <th>old_ps1</th>\n",
       "      <th>new_ps1</th>\n",
       "      <th># sites</th>\n",
       "    </tr>\n",
       "  </thead>\n",
       "  <tbody>\n",
       "    <tr>\n",
       "      <th>879</th>\n",
       "      <td>doubleclick.net</td>\n",
       "      <td>google.com</td>\n",
       "      <td>295</td>\n",
       "    </tr>\n",
       "    <tr>\n",
       "      <th>1097</th>\n",
       "      <td>google-analytics.com</td>\n",
       "      <td>doubleclick.net</td>\n",
       "      <td>246</td>\n",
       "    </tr>\n",
       "    <tr>\n",
       "      <th>1018</th>\n",
       "      <td>everesttech.net</td>\n",
       "      <td>rubiconproject.com</td>\n",
       "      <td>88</td>\n",
       "    </tr>\n",
       "    <tr>\n",
       "      <th>930</th>\n",
       "      <td>doubleclick.net</td>\n",
       "      <td>rubiconproject.com</td>\n",
       "      <td>87</td>\n",
       "    </tr>\n",
       "    <tr>\n",
       "      <th>297</th>\n",
       "      <td>adsrvr.org</td>\n",
       "      <td>rubiconproject.com</td>\n",
       "      <td>78</td>\n",
       "    </tr>\n",
       "    <tr>\n",
       "      <th>1284</th>\n",
       "      <td>mathtag.com</td>\n",
       "      <td>rubiconproject.com</td>\n",
       "      <td>72</td>\n",
       "    </tr>\n",
       "    <tr>\n",
       "      <th>1598</th>\n",
       "      <td>rubiconproject.com</td>\n",
       "      <td>yahoo.com</td>\n",
       "      <td>70</td>\n",
       "    </tr>\n",
       "    <tr>\n",
       "      <th>1961</th>\n",
       "      <td>yahoo.com</td>\n",
       "      <td>rubiconproject.com</td>\n",
       "      <td>68</td>\n",
       "    </tr>\n",
       "    <tr>\n",
       "      <th>1587</th>\n",
       "      <td>rubiconproject.com</td>\n",
       "      <td>doubleclick.net</td>\n",
       "      <td>68</td>\n",
       "    </tr>\n",
       "    <tr>\n",
       "      <th>1013</th>\n",
       "      <td>everesttech.net</td>\n",
       "      <td>openx.net</td>\n",
       "      <td>68</td>\n",
       "    </tr>\n",
       "  </tbody>\n",
       "</table>\n",
       "</div>"
      ],
      "text/plain": [
       "                   old_ps1             new_ps1  # sites\n",
       "879        doubleclick.net          google.com      295\n",
       "1097  google-analytics.com     doubleclick.net      246\n",
       "1018       everesttech.net  rubiconproject.com       88\n",
       "930        doubleclick.net  rubiconproject.com       87\n",
       "297             adsrvr.org  rubiconproject.com       78\n",
       "1284           mathtag.com  rubiconproject.com       72\n",
       "1598    rubiconproject.com           yahoo.com       70\n",
       "1961             yahoo.com  rubiconproject.com       68\n",
       "1587    rubiconproject.com     doubleclick.net       68\n",
       "1013       everesttech.net           openx.net       68"
      ]
     },
     "execution_count": 13,
     "metadata": {},
     "output_type": "execute_result"
    }
   ],
   "source": [
    "redirects.groupby(['old_ps1', 'new_ps1']).size().reset_index(name='# sites').\\\n",
    "    sort_values(by=['# sites'], ascending=False).head(10)"
   ]
  },
  {
   "cell_type": "markdown",
   "metadata": {},
   "source": [
    "### Top redirection targets\n",
    "- Top 10 domains that redirect to other domains."
   ]
  },
  {
   "cell_type": "code",
   "execution_count": 14,
   "metadata": {},
   "outputs": [
    {
     "data": {
      "text/html": [
       "<div>\n",
       "<style scoped>\n",
       "    .dataframe tbody tr th:only-of-type {\n",
       "        vertical-align: middle;\n",
       "    }\n",
       "\n",
       "    .dataframe tbody tr th {\n",
       "        vertical-align: top;\n",
       "    }\n",
       "\n",
       "    .dataframe thead th {\n",
       "        text-align: right;\n",
       "    }\n",
       "</style>\n",
       "<table border=\"1\" class=\"dataframe\">\n",
       "  <thead>\n",
       "    <tr style=\"text-align: right;\">\n",
       "      <th></th>\n",
       "      <th>new_ps1</th>\n",
       "      <th># sites</th>\n",
       "    </tr>\n",
       "  </thead>\n",
       "  <tbody>\n",
       "    <tr>\n",
       "      <th>399</th>\n",
       "      <td>pubmatic.com</td>\n",
       "      <td>1242</td>\n",
       "    </tr>\n",
       "    <tr>\n",
       "      <th>176</th>\n",
       "      <td>doubleclick.net</td>\n",
       "      <td>765</td>\n",
       "    </tr>\n",
       "    <tr>\n",
       "      <th>367</th>\n",
       "      <td>openx.net</td>\n",
       "      <td>575</td>\n",
       "    </tr>\n",
       "    <tr>\n",
       "      <th>159</th>\n",
       "      <td>demdex.net</td>\n",
       "      <td>524</td>\n",
       "    </tr>\n",
       "    <tr>\n",
       "      <th>424</th>\n",
       "      <td>rubiconproject.com</td>\n",
       "      <td>490</td>\n",
       "    </tr>\n",
       "    <tr>\n",
       "      <th>108</th>\n",
       "      <td>bluekai.com</td>\n",
       "      <td>382</td>\n",
       "    </tr>\n",
       "    <tr>\n",
       "      <th>70</th>\n",
       "      <td>amazon-adsystem.com</td>\n",
       "      <td>326</td>\n",
       "    </tr>\n",
       "    <tr>\n",
       "      <th>235</th>\n",
       "      <td>google.com</td>\n",
       "      <td>309</td>\n",
       "    </tr>\n",
       "    <tr>\n",
       "      <th>286</th>\n",
       "      <td>krxd.net</td>\n",
       "      <td>272</td>\n",
       "    </tr>\n",
       "    <tr>\n",
       "      <th>101</th>\n",
       "      <td>bidswitch.net</td>\n",
       "      <td>229</td>\n",
       "    </tr>\n",
       "  </tbody>\n",
       "</table>\n",
       "</div>"
      ],
      "text/plain": [
       "                 new_ps1  # sites\n",
       "399         pubmatic.com     1242\n",
       "176      doubleclick.net      765\n",
       "367            openx.net      575\n",
       "159           demdex.net      524\n",
       "424   rubiconproject.com      490\n",
       "108          bluekai.com      382\n",
       "70   amazon-adsystem.com      326\n",
       "235           google.com      309\n",
       "286             krxd.net      272\n",
       "101        bidswitch.net      229"
      ]
     },
     "execution_count": 14,
     "metadata": {},
     "output_type": "execute_result"
    }
   ],
   "source": [
    "redirects.groupby(['new_ps1']).size().reset_index(name='# sites').\\\n",
    "    sort_values(by=['# sites'], ascending=False).head(10)"
   ]
  },
  {
   "cell_type": "markdown",
   "metadata": {},
   "source": [
    "### Top redirection sources\n",
    "- Top 10 domains that are redirected to from other domains."
   ]
  },
  {
   "cell_type": "code",
   "execution_count": 15,
   "metadata": {},
   "outputs": [
    {
     "data": {
      "text/html": [
       "<div>\n",
       "<style scoped>\n",
       "    .dataframe tbody tr th:only-of-type {\n",
       "        vertical-align: middle;\n",
       "    }\n",
       "\n",
       "    .dataframe tbody tr th {\n",
       "        vertical-align: top;\n",
       "    }\n",
       "\n",
       "    .dataframe thead th {\n",
       "        text-align: right;\n",
       "    }\n",
       "</style>\n",
       "<table border=\"1\" class=\"dataframe\">\n",
       "  <thead>\n",
       "    <tr style=\"text-align: right;\">\n",
       "      <th></th>\n",
       "      <th>old_ps1</th>\n",
       "      <th>counts</th>\n",
       "    </tr>\n",
       "  </thead>\n",
       "  <tbody>\n",
       "    <tr>\n",
       "      <th>164</th>\n",
       "      <td>doubleclick.net</td>\n",
       "      <td>1134</td>\n",
       "    </tr>\n",
       "    <tr>\n",
       "      <th>45</th>\n",
       "      <td>adsrvr.org</td>\n",
       "      <td>608</td>\n",
       "    </tr>\n",
       "    <tr>\n",
       "      <th>179</th>\n",
       "      <td>everesttech.net</td>\n",
       "      <td>474</td>\n",
       "    </tr>\n",
       "    <tr>\n",
       "      <th>92</th>\n",
       "      <td>bidswitch.net</td>\n",
       "      <td>401</td>\n",
       "    </tr>\n",
       "    <tr>\n",
       "      <th>285</th>\n",
       "      <td>mathtag.com</td>\n",
       "      <td>395</td>\n",
       "    </tr>\n",
       "    <tr>\n",
       "      <th>35</th>\n",
       "      <td>adnxs.com</td>\n",
       "      <td>367</td>\n",
       "    </tr>\n",
       "    <tr>\n",
       "      <th>213</th>\n",
       "      <td>google-analytics.com</td>\n",
       "      <td>246</td>\n",
       "    </tr>\n",
       "    <tr>\n",
       "      <th>383</th>\n",
       "      <td>rubiconproject.com</td>\n",
       "      <td>220</td>\n",
       "    </tr>\n",
       "    <tr>\n",
       "      <th>493</th>\n",
       "      <td>yahoo.com</td>\n",
       "      <td>198</td>\n",
       "    </tr>\n",
       "    <tr>\n",
       "      <th>379</th>\n",
       "      <td>rlcdn.com</td>\n",
       "      <td>189</td>\n",
       "    </tr>\n",
       "  </tbody>\n",
       "</table>\n",
       "</div>"
      ],
      "text/plain": [
       "                  old_ps1  counts\n",
       "164       doubleclick.net    1134\n",
       "45             adsrvr.org     608\n",
       "179       everesttech.net     474\n",
       "92          bidswitch.net     401\n",
       "285           mathtag.com     395\n",
       "35              adnxs.com     367\n",
       "213  google-analytics.com     246\n",
       "383    rubiconproject.com     220\n",
       "493             yahoo.com     198\n",
       "379             rlcdn.com     189"
      ]
     },
     "execution_count": 15,
     "metadata": {},
     "output_type": "execute_result"
    }
   ],
   "source": [
    "redirects.groupby(['old_ps1']).size().reset_index(name='counts').\\\n",
    "    sort_values(by=['counts'], ascending=False).head(10)"
   ]
  }
 ],
 "metadata": {
  "kernelspec": {
   "display_name": "Python 3 (ipykernel)",
   "language": "python",
   "name": "python3"
  },
  "language_info": {
   "codemirror_mode": {
    "name": "ipython",
    "version": 3
   },
   "file_extension": ".py",
   "mimetype": "text/x-python",
   "name": "python",
   "nbconvert_exporter": "python",
   "pygments_lexer": "ipython3",
   "version": "3.10.8"
  }
 },
 "nbformat": 4,
 "nbformat_minor": 2
}
