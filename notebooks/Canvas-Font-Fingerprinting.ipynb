{
 "cells": [
  {
   "cell_type": "markdown",
   "metadata": {},
   "source": [
    "# Canvas-Font Fingerprinting detection\n",
    "- Based on https://github.com/mozilla/openwpm-crawler/blob/master/analysis/Sample%20Analysis.ipynb\n",
    "- See our 2016 study for background on Canvas-Font Fingerprinting: https://webtransparency.cs.princeton.edu/webcensus/#canvas-font-fp"
   ]
  },
  {
   "cell_type": "code",
   "execution_count": 1,
   "metadata": {},
   "outputs": [],
   "source": [
    "import re\n",
    "import json\n",
    "import sqlite3\n",
    "import pandas as pd"
   ]
  },
  {
   "cell_type": "code",
   "execution_count": 2,
   "metadata": {},
   "outputs": [],
   "source": [
    "# import some analysis utilities from https://github.com/englehardt/crawl_utils\n",
    "import sys\n",
    "sys.path.append('./crawl_utils/')\n",
    "import domain_utils as du\n",
    "import analysis_utils as au"
   ]
  },
  {
   "cell_type": "code",
   "execution_count": 3,
   "metadata": {},
   "outputs": [],
   "source": [
    "# use the sample sqlite for the 2018-06 stateless crawl\n",
    "DB = 'sample_2018-06_1m_stateless_census_crawl.sqlite'\n",
    "con = sqlite3.connect(DB)\n",
    "con.row_factory = sqlite3.Row"
   ]
  },
  {
   "cell_type": "markdown",
   "metadata": {},
   "source": [
    "### Load JavaScript Calls"
   ]
  },
  {
   "cell_type": "code",
   "execution_count": 4,
   "metadata": {},
   "outputs": [
    {
     "name": "stdout",
     "output_type": "stream",
     "text": [
      "Number of javascript calls 501207\n"
     ]
    }
   ],
   "source": [
    "js = pd.read_sql_query(\"SELECT * FROM javascript\", con)\n",
    "print \"Number of javascript calls\", len(js)"
   ]
  },
  {
   "cell_type": "code",
   "execution_count": 5,
   "metadata": {},
   "outputs": [],
   "source": [
    "# Add the public suffix + 1 of a bunch of the URL columns\n",
    "js['script_ps1'] = js['script_url'].apply(lambda x: du.get_ps_plus_1(x) if x is not None else None)\n",
    "js['top_ps1'] = js['top_level_url'].apply(lambda x: du.get_ps_plus_1(x) if x is not None else None)\n",
    "js['document_ps1'] = js['document_url'].apply(lambda x: du.get_ps_plus_1(x) if x is not None else None)"
   ]
  },
  {
   "cell_type": "markdown",
   "metadata": {},
   "source": [
    "#### Canvas function calls\n",
    "\n",
    "Filter JS calls and inspect for the use of canvas font fingerprinting"
   ]
  },
  {
   "cell_type": "code",
   "execution_count": 6,
   "metadata": {
    "scrolled": true
   },
   "outputs": [
    {
     "data": {
      "text/plain": [
       "script_ps1\n",
       "mathtag.com                      2000\n",
       "cloudflare.com                    295\n",
       "musthird.com                      174\n",
       "walmartimages.com                 102\n",
       "targetimg1.com                     95\n",
       "jrjimg.cn                          88\n",
       "d309knd7es5f10.cloudfront.net      30\n",
       "cdn-apple.com                      27\n",
       "sndcdn.com                          2\n",
       "cdnst.net                           1\n",
       "cdn-net.com                         1\n",
       "boxcdn.net                          1\n",
       "Name: top_ps1, dtype: int64"
      ]
     },
     "execution_count": 6,
     "metadata": {},
     "output_type": "execute_result"
    }
   ],
   "source": [
    "js[\n",
    "    (js.symbol == 'CanvasRenderingContext2D.measureText') &\n",
    "    (js.script_ps1 != js.top_ps1)\n",
    "].groupby('script_ps1').top_ps1.count().sort_values(ascending=False)"
   ]
  },
  {
   "cell_type": "code",
   "execution_count": 7,
   "metadata": {},
   "outputs": [],
   "source": [
    "font_shorthand = re.compile(r\"^\\s*(?=(?:(?:[-a-z]+\\s*){0,2}(italic|oblique))?)(?=(?:(?:[-a-z]+\\s*){0,2}(small-caps))?)(?=(?:(?:[-a-z]+\\s*){0,2}(bold(?:er)?|lighter|[1-9]00))?)(?:(?:normal|\\1|\\2|\\3)\\s*){0,3}((?:xx?-)?(?:small|large)|medium|smaller|larger|[.\\d]+(?:\\%|in|[cem]m|ex|p[ctx]))(?:\\s*\\/\\s*(normal|[.\\d]+(?:\\%|in|[cem]m|ex|p[ctx])))?\\s*([-_\\{\\}\\(\\)\\&!\\',\\*\\.\\\"\\sa-zA-Z0-9]+?)\\s*$\")"
   ]
  },
  {
   "cell_type": "code",
   "execution_count": 8,
   "metadata": {},
   "outputs": [
    {
     "data": {
      "text/plain": [
       "array([u'mmmmmmmmmmlli'], dtype=object)"
      ]
     },
     "execution_count": 8,
     "metadata": {},
     "output_type": "execute_result"
    }
   ],
   "source": [
    "js[\n",
    "    (js.symbol == 'CanvasRenderingContext2D.measureText') &\n",
    "    (js.script_ps1 != js.top_ps1) & \n",
    "    (js.script_ps1 == 'mathtag.com')\n",
    "].arguments.apply(lambda x: json.loads(x)[\"0\"]).unique()"
   ]
  },
  {
   "cell_type": "code",
   "execution_count": 9,
   "metadata": {},
   "outputs": [
    {
     "data": {
      "text/plain": [
       "array([u'monospace', u'sans-serif', u'serif', u'AR DARLING,monospace',\n",
       "       u'AR DARLING,sans-serif', u'AR DARLING,serif',\n",
       "       u'Earwig Factory,monospace', u'Earwig Factory,sans-serif',\n",
       "       u'Earwig Factory,serif', u'Minya Nouvelle,monospace',\n",
       "       u'Minya Nouvelle,sans-serif', u'Minya Nouvelle,serif',\n",
       "       u'Burnstown Dam,monospace', u'Burnstown Dam,sans-serif',\n",
       "       u'Burnstown Dam,serif', u'Sybil Green,monospace',\n",
       "       u'Sybil Green,sans-serif', u'Sybil Green,serif',\n",
       "       u'Stereofidelic,monospace', u'Stereofidelic,sans-serif',\n",
       "       u'Stereofidelic,serif', u'Urdu Typesetting,monospace',\n",
       "       u'Urdu Typesetting,sans-serif', u'Urdu Typesetting,serif',\n",
       "       u'Blue Highway Linocut,monospace',\n",
       "       u'Blue Highway Linocut,sans-serif', u'Blue Highway Linocut,serif',\n",
       "       u'Credit Valley,monospace', u'Credit Valley,sans-serif',\n",
       "       u'Credit Valley,serif', u'Velvenda Cooler,monospace',\n",
       "       u'Velvenda Cooler,sans-serif', u'Velvenda Cooler,serif',\n",
       "       u'Mufferaw,monospace', u'Mufferaw,sans-serif', u'Mufferaw,serif',\n",
       "       u'Huxtable,monospace', u'Huxtable,sans-serif', u'Huxtable,serif',\n",
       "       u'Boopee,monospace', u'Boopee,sans-serif', u'Boopee,serif',\n",
       "       u'Kefa,monospace', u'Kefa,sans-serif', u'Kefa,serif',\n",
       "       u'Nanum Myeongjo,monospace', u'Nanum Myeongjo,sans-serif',\n",
       "       u'Nanum Myeongjo,serif', u'LuzSans-Book,monospace',\n",
       "       u'LuzSans-Book,sans-serif', u'LuzSans-Book,serif',\n",
       "       u'Castro Script PERSONAL USE ONLY,monospace',\n",
       "       u'Castro Script PERSONAL USE ONLY,sans-serif',\n",
       "       u'Castro Script PERSONAL USE ONLY,serif', u'8514oem,monospace',\n",
       "       u'8514oem,sans-serif', u'8514oem,serif',\n",
       "       u'Gentium Book Basic,monospace', u'Gentium Book Basic,sans-serif',\n",
       "       u'Gentium Book Basic,serif', u'Sitka Subheading,monospace',\n",
       "       u'Sitka Subheading,sans-serif', u'Sitka Subheading,serif',\n",
       "       u'Mishafi,monospace', u'Mishafi,sans-serif', u'Mishafi,serif',\n",
       "       u'Wickenden Cafe NDP,monospace', u'Wickenden Cafe NDP,sans-serif',\n",
       "       u'Wickenden Cafe NDP,serif', u'Jenna Sue,monospace',\n",
       "       u'Jenna Sue,sans-serif', u'Jenna Sue,serif', u'Symusic,monospace',\n",
       "       u'Symusic,sans-serif', u'Symusic,serif', u'Monotxt,monospace',\n",
       "       u'Monotxt,sans-serif', u'Monotxt,serif', u'CG Omega,monospace',\n",
       "       u'CG Omega,sans-serif', u'CG Omega,serif',\n",
       "       u'Reprise Metronome,monospace', u'Reprise Metronome,sans-serif',\n",
       "       u'Reprise Metronome,serif', u'CAMPBELL,monospace',\n",
       "       u'CAMPBELL,sans-serif', u'CAMPBELL,serif', u'MAXIMO,monospace',\n",
       "       u'MAXIMO,sans-serif', u'MAXIMO,serif', u'IRIS,monospace',\n",
       "       u'IRIS,sans-serif', u'IRIS,serif', u'HUNTSON,monospace',\n",
       "       u'HUNTSON,sans-serif', u'HUNTSON,serif', u'AcadEref,monospace',\n",
       "       u'AcadEref,sans-serif', u'AcadEref,serif',\n",
       "       u'Lucida Grande CY,monospace', u'Lucida Grande CY,sans-serif',\n",
       "       u'Lucida Grande CY,serif', u'Tall Paul,monospace',\n",
       "       u'Tall Paul,sans-serif', u'Tall Paul,serif',\n",
       "       u'Simply*Glamorous,monospace', u'Simply*Glamorous,sans-serif',\n",
       "       u'Simply*Glamorous,serif', u'Australian Sunrise,monospace',\n",
       "       u'Australian Sunrise,sans-serif', u'Australian Sunrise,serif',\n",
       "       u'Photoshop Large,monospace', u'Photoshop Large,sans-serif',\n",
       "       u'Photoshop Large,serif', u'Circus,monospace', u'Circus,sans-serif',\n",
       "       u'Circus,serif', u'Outright Televism,monospace',\n",
       "       u'Outright Televism,sans-serif', u'Outright Televism,serif',\n",
       "       u'Contribute_FREE-version,monospace',\n",
       "       u'Contribute_FREE-version,sans-serif',\n",
       "       u'Contribute_FREE-version,serif', u'KENDRIC,monospace',\n",
       "       u'KENDRIC,sans-serif', u'KENDRIC,serif',\n",
       "       u'HGP-AGothic2-Latin1K,monospace',\n",
       "       u'HGP-AGothic2-Latin1K,sans-serif', u'HGP-AGothic2-Latin1K,serif',\n",
       "       u'AVGmdBU,monospace', u'AVGmdBU,sans-serif', u'AVGmdBU,serif',\n",
       "       u'ReservoirGrunge,monospace', u'ReservoirGrunge,sans-serif',\n",
       "       u'ReservoirGrunge,serif', u'FIRSTHOME,monospace',\n",
       "       u'FIRSTHOME,sans-serif', u'FIRSTHOME,serif', u'LYNN,monospace',\n",
       "       u'LYNN,sans-serif', u'LYNN,serif', u'BRODY,monospace',\n",
       "       u'BRODY,sans-serif', u'BRODY,serif',\n",
       "       u'Bergamot Ornaments,monospace', u'Bergamot Ornaments,sans-serif',\n",
       "       u'Bergamot Ornaments,serif', u'Return To Sender,monospace',\n",
       "       u'Return To Sender,sans-serif', u'Return To Sender,serif',\n",
       "       u'Bleeding Cowboys,monospace', u'Bleeding Cowboys,sans-serif',\n",
       "       u'Bleeding Cowboys,serif', u'LCD,monospace', u'LCD,sans-serif',\n",
       "       u'LCD,serif', u'Goudy,monospace', u'Goudy,sans-serif',\n",
       "       u'Goudy,serif', u'Oxford,monospace', u'Oxford,sans-serif',\n",
       "       u'Oxford,serif', u'Budmo Jiggler,monospace',\n",
       "       u'Budmo Jiggler,sans-serif', u'Budmo Jiggler,serif',\n",
       "       u'Alba Matter,monospace', u'Alba Matter,sans-serif',\n",
       "       u'Alba Matter,serif', u'Denmark,monospace', u'Denmark,sans-serif',\n",
       "       u'Denmark,serif', u'Girls are Weird,monospace',\n",
       "       u'Girls are Weird,sans-serif', u'Girls are Weird,serif',\n",
       "       u'Channel Left-Slanted,monospace',\n",
       "       u'Channel Left-Slanted,sans-serif', u'Channel Left-Slanted,serif',\n",
       "       u'Traveling _Typewriter,monospace',\n",
       "       u'Traveling _Typewriter,sans-serif', u'Traveling _Typewriter,serif',\n",
       "       u'Teletype,monospace', u'Teletype,sans-serif', u'Teletype,serif',\n",
       "       u'Cuckoo,monospace', u'Cuckoo,sans-serif', u'Cuckoo,serif',\n",
       "       u'MARKETPRO,monospace', u'MARKETPRO,sans-serif', u'MARKETPRO,serif',\n",
       "       u'ABIGAIL,monospace', u'ABIGAIL,sans-serif', u'ABIGAIL,serif',\n",
       "       u'JACKIE,monospace', u'JACKIE,sans-serif', u'JACKIE,serif',\n",
       "       u'Carnivalee Freakshow,monospace',\n",
       "       u'Carnivalee Freakshow,sans-serif', u'Carnivalee Freakshow,serif',\n",
       "       u'NewZurica,monospace', u'NewZurica,sans-serif', u'NewZurica,serif',\n",
       "       u'OldCentury,monospace', u'OldCentury,sans-serif',\n",
       "       u'OldCentury,serif', u'LongIsland,monospace',\n",
       "       u'LongIsland,sans-serif', u'LongIsland,serif',\n",
       "       u'Fontdinerdotcom Sparkly,monospace',\n",
       "       u'Fontdinerdotcom Sparkly,sans-serif',\n",
       "       u'Fontdinerdotcom Sparkly,serif', u'PAINTSTROKE,monospace',\n",
       "       u'PAINTSTROKE,sans-serif', u'PAINTSTROKE,serif',\n",
       "       u'Mona Lisa Recut,monospace', u'Mona Lisa Recut,sans-serif',\n",
       "       u'Mona Lisa Recut,serif', u'Times New Roman Symbol,monospace',\n",
       "       u'Times New Roman Symbol,sans-serif',\n",
       "       u'Times New Roman Symbol,serif',\n",
       "       u'ESRI Enviro Hazard Incident,monospace',\n",
       "       u'ESRI Enviro Hazard Incident,sans-serif',\n",
       "       u'ESRI Enviro Hazard Incident,serif', u'TextilePiEF,monospace',\n",
       "       u'TextilePiEF,sans-serif', u'TextilePiEF,serif', u'Edda,monospace',\n",
       "       u'Edda,sans-serif', u'Edda,serif', u'EcuyerDAX,monospace',\n",
       "       u'EcuyerDAX,sans-serif', u'EcuyerDAX,serif',\n",
       "       u'Bodoni PosterCompressed,monospace',\n",
       "       u'Bodoni PosterCompressed,sans-serif',\n",
       "       u'Bodoni PosterCompressed,serif', u'MapInfo Cartographic,monospace',\n",
       "       u'MapInfo Cartographic,sans-serif', u'MapInfo Cartographic,serif',\n",
       "       u'ESRI NIMA City Graphic LN,monospace',\n",
       "       u'ESRI NIMA City Graphic LN,sans-serif',\n",
       "       u'ESRI NIMA City Graphic LN,serif', u'Virtual DJ,monospace',\n",
       "       u'Virtual DJ,sans-serif', u'Virtual DJ,serif',\n",
       "       u'MS SystemEx,monospace', u'MS SystemEx,sans-serif',\n",
       "       u'MS SystemEx,serif', u'AdineKirnberg-Script,monospace',\n",
       "       u'AdineKirnberg-Script,sans-serif', u'AdineKirnberg-Script,serif',\n",
       "       u'Exmouth,monospace', u'Exmouth,sans-serif', u'Exmouth,serif',\n",
       "       u'OPENCLASSIC,monospace', u'OPENCLASSIC,sans-serif',\n",
       "       u'OPENCLASSIC,serif', u'Sweetly Broken,monospace',\n",
       "       u'Sweetly Broken,sans-serif', u'Sweetly Broken,serif',\n",
       "       u'English Essay,monospace', u'English Essay,sans-serif',\n",
       "       u'English Essay,serif', u'Jenkins v2.0,monospace',\n",
       "       u'Jenkins v2.0,sans-serif', u'Jenkins v2.0,serif',\n",
       "       u'Architects Daughter,monospace', u'Architects Daughter,sans-serif',\n",
       "       u'Architects Daughter,serif', u'Taffy,monospace',\n",
       "       u'Taffy,sans-serif', u'Taffy,serif', u'Weltron Urban,monospace',\n",
       "       u'Weltron Urban,sans-serif', u'Weltron Urban,serif',\n",
       "       u'1942 report,monospace', u'1942 report,sans-serif',\n",
       "       u'1942 report,serif', u'Fat,monospace', u'Fat,sans-serif',\n",
       "       u'Fat,serif', u'Rod Transparent,monospace',\n",
       "       u'Rod Transparent,sans-serif', u'Rod Transparent,serif',\n",
       "       u'SimSun-PUA,monospace', u'SimSun-PUA,sans-serif',\n",
       "       u'SimSun-PUA,serif', u'Before the Rain Swashes DEMO,monospace',\n",
       "       u'Before the Rain Swashes DEMO,sans-serif',\n",
       "       u'Before the Rain Swashes DEMO,serif', u'Abraham Lincoln,monospace',\n",
       "       u'Abraham Lincoln,sans-serif', u'Abraham Lincoln,serif',\n",
       "       u'Opus Japanese Chords,monospace',\n",
       "       u'Opus Japanese Chords,sans-serif', u'Opus Japanese Chords,serif',\n",
       "       u'Agent Orange,monospace', u'Agent Orange,sans-serif',\n",
       "       u'Agent Orange,serif', u'Almonte Snow,monospace',\n",
       "       u'Almonte Snow,sans-serif', u'Almonte Snow,serif',\n",
       "       u'Luciano,monospace', u'Luciano,sans-serif', u'Luciano,serif',\n",
       "       u'HenryMorganHand,monospace', u'HenryMorganHand,sans-serif',\n",
       "       u'HenryMorganHand,serif', u'KG Skinny Latte,monospace',\n",
       "       u'KG Skinny Latte,sans-serif', u'KG Skinny Latte,serif',\n",
       "       u'CANDY INC.,monospace', u'CANDY INC.,sans-serif',\n",
       "       u'CANDY INC.,serif', u'Tango BT,monospace', u'Tango BT,sans-serif',\n",
       "       u'Tango BT,serif', u'GrutchShaded,monospace',\n",
       "       u'GrutchShaded,sans-serif', u'GrutchShaded,serif',\n",
       "       u'Segoe Media Center Semibold,monospace',\n",
       "       u'Segoe Media Center Semibold,sans-serif',\n",
       "       u'Segoe Media Center Semibold,serif', u'Kiev,monospace',\n",
       "       u'Kiev,sans-serif', u'Kiev,serif', u'Lobster 1.3,monospace',\n",
       "       u'Lobster 1.3,sans-serif', u'Lobster 1.3,serif',\n",
       "       u'Tabitha,monospace', u'Tabitha,sans-serif', u'Tabitha,serif',\n",
       "       u'Bimini,monospace', u'Bimini,sans-serif', u'Bimini,serif',\n",
       "       u'OptimusPrinceps,monospace', u'OptimusPrinceps,sans-serif',\n",
       "       u'OptimusPrinceps,serif', u'Ostrich Sans Dashed Medium,monospace',\n",
       "       u'Ostrich Sans Dashed Medium,sans-serif',\n",
       "       u'Ostrich Sans Dashed Medium,serif', u'DK Crayon Crumble,monospace',\n",
       "       u'DK Crayon Crumble,sans-serif', u'DK Crayon Crumble,serif',\n",
       "       u'DYMObvba,monospace', u'DYMObvba,sans-serif', u'DYMObvba,serif',\n",
       "       u'28 Days Later,monospace', u'28 Days Later,sans-serif',\n",
       "       u'28 Days Later,serif', u'Engaged,monospace', u'Engaged,sans-serif',\n",
       "       u'Engaged,serif', u'always * forever,monospace',\n",
       "       u'always * forever,sans-serif', u'always * forever,serif',\n",
       "       u'Loki Cola,monospace', u'Loki Cola,sans-serif', u'Loki Cola,serif',\n",
       "       u'Connecticut,monospace', u'Connecticut,sans-serif',\n",
       "       u'Connecticut,serif', u'Pea Ellie Bellie,monospace',\n",
       "       u'Pea Ellie Bellie,sans-serif', u'Pea Ellie Bellie,serif',\n",
       "       u'Utah,monospace', u'Utah,sans-serif', u'Utah,serif',\n",
       "       u'MICR,monospace', u'MICR,sans-serif', u'MICR,serif',\n",
       "       u'Things We Said,monospace', u'Things We Said,sans-serif',\n",
       "       u'Things We Said,serif', u'Stars & Stripes,monospace',\n",
       "       u'Stars & Stripes,sans-serif', u'Stars & Stripes,serif',\n",
       "       u'Rope MF,monospace', u'Rope MF,sans-serif', u'Rope MF,serif',\n",
       "       u'Lato Hairline,monospace', u'Lato Hairline,sans-serif',\n",
       "       u'Lato Hairline,serif', u'GilliesGotDLig,monospace',\n",
       "       u'GilliesGotDLig,sans-serif', u'GilliesGotDLig,serif',\n",
       "       u'Antique Olive CompactPS,monospace',\n",
       "       u'Antique Olive CompactPS,sans-serif',\n",
       "       u'Antique Olive CompactPS,serif', u'CaslonNo540SwaD,monospace',\n",
       "       u'CaslonNo540SwaD,sans-serif', u'CaslonNo540SwaD,serif',\n",
       "       u'SF Movie Poster,monospace', u'SF Movie Poster,sans-serif',\n",
       "       u'SF Movie Poster,serif', u'CaslonAntT,monospace',\n",
       "       u'CaslonAntT,sans-serif', u'CaslonAntT,serif',\n",
       "       u'Josefin Slab,monospace', u'Josefin Slab,sans-serif',\n",
       "       u'Josefin Slab,serif', u'PegsannaHMK,monospace',\n",
       "       u'PegsannaHMK,sans-serif', u'PegsannaHMK,serif',\n",
       "       u'Impact Label Reversed,monospace',\n",
       "       u'Impact Label Reversed,sans-serif', u'Impact Label Reversed,serif',\n",
       "       u'Ubuntu,monospace', u'Ubuntu,sans-serif', u'Ubuntu,serif',\n",
       "       u'Oh {Photo} Shoot!,monospace', u'Oh {Photo} Shoot!,sans-serif',\n",
       "       u'Oh {Photo} Shoot!,serif', u'Deftone Stylus,monospace',\n",
       "       u'Deftone Stylus,sans-serif', u'Deftone Stylus,serif',\n",
       "       u'CluffHmk,monospace', u'CluffHmk,sans-serif', u'CluffHmk,serif',\n",
       "       u'Incised901 BdCn BT,monospace', u'Incised901 BdCn BT,sans-serif',\n",
       "       u'Incised901 BdCn BT,serif', u'Respective 2.0,monospace',\n",
       "       u'Respective 2.0,sans-serif', u'Respective 2.0,serif',\n",
       "       u'Parry Hotter,monospace', u'Parry Hotter,sans-serif',\n",
       "       u'Parry Hotter,serif', u'NotnorvalHmk,monospace',\n",
       "       u'NotnorvalHmk,sans-serif', u'NotnorvalHmk,serif',\n",
       "       u'odstemplik,monospace', u'odstemplik,sans-serif',\n",
       "       u'odstemplik,serif', u'Ethnocentric,monospace',\n",
       "       u'Ethnocentric,sans-serif', u'Ethnocentric,serif',\n",
       "       u'Miserably Lose,monospace', u'Miserably Lose,sans-serif',\n",
       "       u'Miserably Lose,serif', u'SAS Monospace,monospace',\n",
       "       u'SAS Monospace,sans-serif', u'SAS Monospace,serif',\n",
       "       u'Stonehenge,monospace', u'Stonehenge,sans-serif',\n",
       "       u'Stonehenge,serif', u'BethsCuteHmk,monospace',\n",
       "       u'BethsCuteHmk,sans-serif', u'BethsCuteHmk,serif',\n",
       "       u'BixAntiqueScriptHmk,monospace', u'BixAntiqueScriptHmk,sans-serif',\n",
       "       u'BixAntiqueScriptHmk,serif', u'MicrogrammaDMedExt,monospace',\n",
       "       u'MicrogrammaDMedExt,sans-serif', u'MicrogrammaDMedExt,serif',\n",
       "       u'StarbabeHmk,monospace', u'StarbabeHmk,sans-serif',\n",
       "       u'StarbabeHmk,serif', u'FFF Tusj,monospace', u'FFF Tusj,sans-serif',\n",
       "       u'FFF Tusj,serif', u'BoogieWoogieHmk,monospace',\n",
       "       u'BoogieWoogieHmk,sans-serif', u'BoogieWoogieHmk,serif',\n",
       "       u'Star Jedi Hollow,monospace', u'Star Jedi Hollow,sans-serif',\n",
       "       u'Star Jedi Hollow,serif', u'Eight Fifteen,monospace',\n",
       "       u'Eight Fifteen,sans-serif', u'Eight Fifteen,serif',\n",
       "       u'Ribbon,monospace', u'Ribbon,sans-serif', u'Ribbon,serif',\n",
       "       u'Helsinki Narrow,monospace', u'Helsinki Narrow,sans-serif',\n",
       "       u'Helsinki Narrow,serif', u'San Diego,monospace',\n",
       "       u'San Diego,sans-serif', u'San Diego,serif', u'Jewels,monospace',\n",
       "       u'Jewels,sans-serif', u'Jewels,serif',\n",
       "       u'Baskerville-Old-Face,monospace',\n",
       "       u'Baskerville-Old-Face,sans-serif', u'Baskerville-Old-Face,serif',\n",
       "       u'OCR-A,monospace', u'OCR-A,sans-serif', u'OCR-A,serif',\n",
       "       u'OttumHmk,monospace', u'OttumHmk,sans-serif', u'OttumHmk,serif',\n",
       "       u'Mr and Mrs Popsicle,monospace', u'Mr and Mrs Popsicle,sans-serif',\n",
       "       u'Mr and Mrs Popsicle,serif', u'Symbol Tiger Expert,monospace',\n",
       "       u'Symbol Tiger Expert,sans-serif', u'Symbol Tiger Expert,serif',\n",
       "       u'URWAlcuinT,monospace', u'URWAlcuinT,sans-serif',\n",
       "       u'URWAlcuinT,serif', u'DynameBlackSSK,monospace',\n",
       "       u'DynameBlackSSK,sans-serif'], dtype=object)"
      ]
     },
     "execution_count": 9,
     "metadata": {},
     "output_type": "execute_result"
    }
   ],
   "source": [
    "js[\n",
    "    (js.symbol == 'CanvasRenderingContext2D.font') &\n",
    "    (js.script_ps1 != js.top_ps1) & \n",
    "    (js.script_ps1 == 'mathtag.com')\n",
    "].value.apply(lambda x: re.match(font_shorthand, x).group(6)).unique()"
   ]
  }
 ],
 "metadata": {
  "kernelspec": {
   "display_name": "Python 3 (ipykernel)",
   "language": "python",
   "name": "python3"
  },
  "language_info": {
   "codemirror_mode": {
    "name": "ipython",
    "version": 3
   },
   "file_extension": ".py",
   "mimetype": "text/x-python",
   "name": "python",
   "nbconvert_exporter": "python",
   "pygments_lexer": "ipython3",
   "version": "3.10.8"
  }
 },
 "nbformat": 4,
 "nbformat_minor": 2
}
