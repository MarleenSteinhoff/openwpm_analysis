{
 "cells": [
  {
   "cell_type": "code",
   "execution_count": 5,
   "id": "c3cb1eb7",
   "metadata": {},
   "outputs": [
    {
     "ename": "ModuleNotFoundError",
     "evalue": "No module named 'tld'",
     "output_type": "error",
     "traceback": [
      "\u001b[0;31m---------------------------------------------------------------------------\u001b[0m",
      "\u001b[0;31mModuleNotFoundError\u001b[0m                       Traceback (most recent call last)",
      "Input \u001b[0;32mIn [5]\u001b[0m, in \u001b[0;36m<cell line: 1>\u001b[0;34m()\u001b[0m\n\u001b[0;32m----> 1\u001b[0m \u001b[38;5;28;01mimport\u001b[39;00m \u001b[38;5;21;01manalyze_crawl\u001b[39;00m\n",
      "File \u001b[0;32m~/UNi/Projektseminar/Datenanalyse/openwpm-data-release/analyze_crawl.py:8\u001b[0m, in \u001b[0;36m<module>\u001b[0;34m\u001b[0m\n\u001b[1;32m      6\u001b[0m \u001b[38;5;28;01mfrom\u001b[39;00m \u001b[38;5;21;01mos\u001b[39;00m\u001b[38;5;21;01m.\u001b[39;00m\u001b[38;5;21;01mpath\u001b[39;00m \u001b[38;5;28;01mimport\u001b[39;00m join, basename, sep, isdir\n\u001b[1;32m      7\u001b[0m \u001b[38;5;28;01mfrom\u001b[39;00m \u001b[38;5;21;01mcollections\u001b[39;00m \u001b[38;5;28;01mimport\u001b[39;00m defaultdict\n\u001b[0;32m----> 8\u001b[0m \u001b[38;5;28;01mimport\u001b[39;00m \u001b[38;5;21;01mutil\u001b[39;00m\n\u001b[1;32m      9\u001b[0m \u001b[38;5;28;01mfrom\u001b[39;00m \u001b[38;5;21;01mdb_schema\u001b[39;00m \u001b[38;5;28;01mimport\u001b[39;00m (HTTP_REQUESTS_TABLE,\n\u001b[1;32m     10\u001b[0m                        HTTP_RESPONSES_TABLE,\n\u001b[1;32m     11\u001b[0m                        JAVASCRIPT_TABLE, OPENWPM_TABLES)\n\u001b[1;32m     12\u001b[0m \u001b[38;5;28;01mfrom\u001b[39;00m \u001b[38;5;21;01mutil\u001b[39;00m \u001b[38;5;28;01mimport\u001b[39;00m dump_as_json, get_table_and_column_names, get_crawl_dir,\\\n\u001b[1;32m     13\u001b[0m     get_crawl_db_path\n",
      "File \u001b[0;32m~/UNi/Projektseminar/Datenanalyse/openwpm-data-release/util.py:5\u001b[0m, in \u001b[0;36m<module>\u001b[0;34m\u001b[0m\n\u001b[1;32m      3\u001b[0m \u001b[38;5;28;01mfrom\u001b[39;00m \u001b[38;5;21;01mtime\u001b[39;00m \u001b[38;5;28;01mimport\u001b[39;00m time\n\u001b[1;32m      4\u001b[0m \u001b[38;5;28;01mfrom\u001b[39;00m \u001b[38;5;21;01mmultiprocessing\u001b[39;00m \u001b[38;5;28;01mimport\u001b[39;00m Process\n\u001b[0;32m----> 5\u001b[0m \u001b[38;5;28;01mfrom\u001b[39;00m \u001b[38;5;21;01mtld\u001b[39;00m \u001b[38;5;28;01mimport\u001b[39;00m get_tld\n\u001b[1;32m      6\u001b[0m \u001b[38;5;28;01mimport\u001b[39;00m \u001b[38;5;21;01mipaddress\u001b[39;00m\n\u001b[1;32m      7\u001b[0m \u001b[38;5;28;01mfrom\u001b[39;00m \u001b[38;5;21;01mos\u001b[39;00m\u001b[38;5;21;01m.\u001b[39;00m\u001b[38;5;21;01mpath\u001b[39;00m \u001b[38;5;28;01mimport\u001b[39;00m join, isfile,  isdir, dirname\n",
      "\u001b[0;31mModuleNotFoundError\u001b[0m: No module named 'tld'"
     ]
    }
   ],
   "source": [
    "import analyze_crawl"
   ]
  },
  {
   "cell_type": "code",
   "execution_count": null,
   "id": "ea47958e",
   "metadata": {},
   "outputs": [],
   "source": []
  },
  {
   "cell_type": "code",
   "execution_count": 6,
   "id": "222d8672",
   "metadata": {},
   "outputs": [],
   "source": [
    "class FullDBAnalysis(object):\n",
    "    \n",
    "    def __init__(self, crawl_dir, out_dir):\n",
    "        \n",
    "        self.crawl_dir = get_crawl_dir(crawl_dir)\n",
    "        self.crawl_name = basename(crawl_dir.rstrip(sep))\n",
    "        self.crawl_db_path = get_crawl_db_path(self.crawl_dir)\n",
    "        self.out_dir = join(out_dir, \"analysis\")\n",
    "        self.init_out_dir()\n",
    "        \n",
    "    def start_analyze_crawl(self):\n",
    "        t0 = time()\n",
    "        crawl_db_check = analyze_crawl.CrawlDBAnalysis(crawl_dir, out_dir)\n",
    "        crawl_db_check.start_analysis()\n",
    "        print(\"Analysis finished in %0.1f mins\" % ((time() - t0) / 60))\n",
    "\n",
    "    \n",
    "        "
   ]
  },
  {
   "cell_type": "code",
   "execution_count": null,
   "id": "7b6dcfca",
   "metadata": {},
   "outputs": [],
   "source": [
    "if __name__ == '__main__':\n",
    "    t0 = time()\n",
    "    crawl_db_check = CrawlDBAnalysis(sys.argv[1], sys.argv[2])\n",
    "    start_analyze_crawl\n",
    "    \n",
    "    full_analysis.start_analysis()\n",
    "    print(\"Analysis finished in %0.1f mins\" % ((time() - t0) / 60))"
   ]
  }
 ],
 "metadata": {
  "kernelspec": {
   "display_name": "Python 3 (ipykernel)",
   "language": "python",
   "name": "python3"
  },
  "language_info": {
   "codemirror_mode": {
    "name": "ipython",
    "version": 3
   },
   "file_extension": ".py",
   "mimetype": "text/x-python",
   "name": "python",
   "nbconvert_exporter": "python",
   "pygments_lexer": "ipython3",
   "version": "3.10.8"
  }
 },
 "nbformat": 4,
 "nbformat_minor": 5
}
